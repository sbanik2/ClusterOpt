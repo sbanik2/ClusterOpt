{
 "cells": [
  {
   "cell_type": "code",
   "execution_count": 12,
   "id": "9ac91dc2-9766-4189-918b-42955f718f31",
   "metadata": {},
   "outputs": [],
   "source": [
    "import os\n",
    "import shutil\n",
    "import ase\n",
    "import pandas as pd\n",
    "import numpy as np\n",
    "import matplotlib.pyplot as plt\n",
    "import seaborn as sns\n",
    "from ase.io import read\n",
    "from lammps import lammps\n",
    "from dscribe.descriptors import MBTR\n",
    "from glob import glob\n",
    "from matplotlib import colors\n",
    "from matplotlib.ticker import PercentFormatter\n",
    "from pymatgen.io.vasp import Poscar\n",
    "from pymatgen.io.lammps.data import LammpsData\n",
    "from itertools import combinations\n",
    "from pymatgen import Structure,Lattice\n",
    "from pymatgen.io.ase import AseAtomsAdaptor\n",
    "from dscribe.descriptors import MBTR, SOAP\n",
    "from Perturb import gel_latt_coords \n",
    "import math\n",
    "#!/usr/bin/env python\n",
    "\n"
   ]
  },
  {
   "cell_type": "code",
   "execution_count": null,
   "id": "b04e31a3-6ff0-4fc0-8fa4-5be7818824cd",
   "metadata": {},
   "outputs": [],
   "source": [
    "r = pd.DataFrame(np.array([[1.3]]),columns=[\"Au\"],index= [\"Au\"])\n",
    "\n",
    "constrains = {     \n",
    "        \"composition\":{\"Au\":1},\n",
    "        \"atoms\":13,\n",
    "        \"vpa\":[4, 8.65],\n",
    "        \"r\":r,       \n",
    "        }\n",
    "\n",
    "\n",
    "\n",
    "\n",
    "lammps_args = {\n",
    "        \"pair_style\" : \"pair_style eam\",\n",
    "        \"pair_coeff\" : \"pair_coeff * * Au.eam\",\n",
    "        \"pad\":20\n",
    "            }\n",
    "\n",
    "args = (constrains,lammps_args)"
   ]
  },
  {
   "cell_type": "code",
   "execution_count": null,
   "id": "73c27b49-33ef-422d-bf8c-aaf8c378c128",
   "metadata": {},
   "outputs": [],
   "source": []
  },
  {
   "cell_type": "code",
   "execution_count": null,
   "id": "d3350cb9-f684-4c5d-a952-4e23a61fc3d8",
   "metadata": {},
   "outputs": [],
   "source": []
  },
  {
   "cell_type": "code",
   "execution_count": null,
   "id": "25208c17-be67-40df-99b7-d05aaf8b10f2",
   "metadata": {},
   "outputs": [],
   "source": []
  },
  {
   "cell_type": "markdown",
   "id": "d19d84fd-2898-44dd-9fc8-4871e66f5c9e",
   "metadata": {},
   "source": [
    "# Basin hopping"
   ]
  },
  {
   "cell_type": "code",
   "execution_count": 6,
   "id": "1b33bf8f-5cc8-46bd-9bee-3b33e1ab0781",
   "metadata": {},
   "outputs": [],
   "source": [
    "from scipy.optimize import basinhopping\n",
    "from scipy.optimize import minimize, rosen, rosen_der"
   ]
  },
  {
   "cell_type": "code",
   "execution_count": 7,
   "id": "682592ac-a8d2-4881-98c6-722a11ceb2ef",
   "metadata": {},
   "outputs": [
    {
     "data": {
      "text/plain": [
       "array([1.00000002, 1.00000002, 1.00000007, 1.00000015, 1.00000028])"
      ]
     },
     "execution_count": 7,
     "metadata": {},
     "output_type": "execute_result"
    }
   ],
   "source": [
    "x0 = [1.3, 0.7, 0.8, 1.9, 1.2]\n",
    "res = minimize(rosen, x0, method='Nelder-Mead', tol=1e-6)\n",
    "res.x\n"
   ]
  },
  {
   "cell_type": "code",
   "execution_count": 13,
   "id": "753bc7f8-de7a-4bc9-9586-48c7a6e8fb22",
   "metadata": {},
   "outputs": [
    {
     "name": "stdout",
     "output_type": "stream",
     "text": [
      "Optimization terminated successfully.\n",
      "         Current function value: 0.000000\n",
      "         Iterations: 26\n",
      "         Function evaluations: 31\n",
      "         Gradient evaluations: 31\n"
     ]
    },
    {
     "data": {
      "text/plain": [
       "array([1., 1., 1., 1., 1.])"
      ]
     },
     "execution_count": 13,
     "metadata": {},
     "output_type": "execute_result"
    }
   ],
   "source": [
    "res = minimize(rosen, x0, method='BFGS', jac=rosen_der,\n",
    "               options={'gtol': 1e-6, 'disp': True})\n",
    "\n",
    "res.x"
   ]
  },
  {
   "cell_type": "markdown",
   "id": "e87938ee-de89-4c17-881f-ce5bd3b1baba",
   "metadata": {},
   "source": [
    "# scipy minimize"
   ]
  },
  {
   "cell_type": "code",
   "execution_count": 73,
   "id": "c054b882-edd5-4b19-b383-6be23de9ebaa",
   "metadata": {},
   "outputs": [
    {
     "name": "stdout",
     "output_type": "stream",
     "text": [
      "The autoreload extension is already loaded. To reload it, use:\n",
      "  %reload_ext autoreload\n"
     ]
    }
   ],
   "source": [
    "%load_ext autoreload\n",
    "%autoreload 2\n",
    "\n",
    "import pandas as pd\n",
    "import numpy as np\n",
    "from random import *\n",
    "from Structfunc import ParamsfromStruct, SructureFrmParams, check_constrains\n",
    "from pymatgen.io.vasp import Poscar"
   ]
  },
  {
   "cell_type": "code",
   "execution_count": 74,
   "id": "e9b25a88-4ccf-4ef8-9563-a0d264e463ce",
   "metadata": {},
   "outputs": [],
   "source": [
    "r = pd.DataFrame(np.array([[1.3]]),columns=[\"Au\"],index= [\"Au\"])\n",
    "\n",
    "constrains = {     \n",
    "        \"composition\":{\"Au\":1},\n",
    "        \"atoms\":13,\n",
    "        \"vpa\":[16, 20],\n",
    "        \"r\":r,       \n",
    "        }\n",
    "\n",
    "\n",
    "lammps_args = {\n",
    "        \"pair_style\" : \"pair_style eam\",\n",
    "        \"pair_coeff\" : \"pair_coeff * * Au.eam\",\n",
    "        \"pad\":20\n",
    "            }\n",
    "\n",
    "args = (constrains,lammps_args)"
   ]
  },
  {
   "cell_type": "code",
   "execution_count": 144,
   "id": "33225875-cc7a-47c4-bb85-aafce68b437d",
   "metadata": {},
   "outputs": [
    {
     "name": "stdout",
     "output_type": "stream",
     "text": [
      "65\n"
     ]
    }
   ],
   "source": [
    "structData = createRandomData(constrains,trials = 1000)"
   ]
  },
  {
   "cell_type": "code",
   "execution_count": 145,
   "id": "a214c1a3-2e7b-4db1-8edc-99c9fdba5c23",
   "metadata": {},
   "outputs": [],
   "source": [
    "struct = SructureFrmParams(structData ,constrains,pad=0)"
   ]
  },
  {
   "cell_type": "code",
   "execution_count": 146,
   "id": "58a9e251-b9bf-4e85-a9a4-b2a4aa7e6ada",
   "metadata": {},
   "outputs": [],
   "source": [
    "Poscar(struct).write_file(\"test.POSCAR\")"
   ]
  },
  {
   "cell_type": "code",
   "execution_count": 147,
   "id": "93413f72-aa2c-43e9-bfe4-af5bce90b1ca",
   "metadata": {},
   "outputs": [],
   "source": [
    "new_struct = SructureFrmParams(ParamsfromStruct(struct,constrains,pad=) ,constrains,pad=30)"
   ]
  },
  {
   "cell_type": "code",
   "execution_count": 148,
   "id": "f92f3385-c207-4d03-9b1f-480395ec4343",
   "metadata": {},
   "outputs": [],
   "source": [
    "Poscar(new_struct).write_file(\"new.POSCAR\")"
   ]
  },
  {
   "cell_type": "code",
   "execution_count": 154,
   "id": "9e28ccfa-7087-4e82-b346-fb13e501320d",
   "metadata": {},
   "outputs": [
    {
     "data": {
      "text/plain": [
       "437.44156552244414"
      ]
     },
     "execution_count": 154,
     "metadata": {},
     "output_type": "execute_result"
    }
   ],
   "source": [
    "np.sum(np.abs(np.sum(getSOAP(struct),axis=0)-np.sum(getSOAP(new_struct),axis=0)))"
   ]
  },
  {
   "cell_type": "code",
   "execution_count": null,
   "id": "7835510c-df10-4b8a-8247-9ae3ab33e2da",
   "metadata": {},
   "outputs": [],
   "source": []
  },
  {
   "cell_type": "code",
   "execution_count": 97,
   "id": "0f065c5e-d700-4b5f-bad8-a509b8a6cf51",
   "metadata": {},
   "outputs": [],
   "source": [
    "from pymatgen import Structure,Lattice\n",
    "from pymatgen.io.ase import AseAtomsAdaptor\n",
    "from dscribe.descriptors import MBTR, SOAP\n",
    "import math"
   ]
  },
  {
   "cell_type": "code",
   "execution_count": 153,
   "id": "ed970976-0273-48df-a600-d5b72e2a12bf",
   "metadata": {},
   "outputs": [],
   "source": [
    "\n",
    "def get_species(structure):\n",
    "    '''\n",
    "    Returns all the species as a list\n",
    "    '''\n",
    "    species = [cord.specie.symbol for cord in structure.sites]\n",
    "\n",
    "    return species\n",
    "\n",
    "\n",
    "\n",
    "def getSOAP(structure):\n",
    "    ASEobject = StructureToAse(structure)\n",
    "    species = list(set(get_species(structure)))\n",
    "    rcut = 4.0\n",
    "    nmax = 3\n",
    "    lmax = 3\n",
    "#   rbf = 'polynomial'\n",
    "    periodic_soap = SOAP(\n",
    "            species=species,\n",
    "            rcut=rcut,\n",
    "            nmax=nmax,\n",
    "            lmax=nmax,\n",
    "            periodic=True,\n",
    "            sparse=False,\n",
    "            #average = \"inner\"\n",
    "        )\n",
    "\n",
    "    return periodic_soap.create(ASEobject) \n",
    "    \n",
    "#-------------------------------------------------\n",
    "    \n",
    "    \n",
    "def StructureToAse(structure):\n",
    "    '''\n",
    "    Used to create an ASE object from the structure dictionary of MCTS.\n",
    "    '''\n",
    "        \n",
    "    ASEobject = AseAtomsAdaptor().get_atoms(structure)\n",
    "    ASEobject.set_cell([structure.lattice.a,structure.lattice.b,structure.lattice.c,structure.lattice.alpha,\n",
    "        structure.lattice.beta,structure.lattice.gamma])\n",
    "    return ASEobject\n"
   ]
  },
  {
   "cell_type": "code",
   "execution_count": null,
   "id": "98c1cc47-7a2e-42e0-82cc-73bf407da8eb",
   "metadata": {},
   "outputs": [],
   "source": []
  },
  {
   "cell_type": "code",
   "execution_count": null,
   "id": "ad2f9327-7731-42ae-9845-570786e0c802",
   "metadata": {},
   "outputs": [],
   "source": [
    "import pandas as pd\n",
    "import numpy as np\n",
    "from random import *\n",
    "from scipy.optimize import minimize\n",
    "from Evaluator import Custom_minimize, LammpsEvaluator\n",
    "from Structfunc import createRandomData\n",
    "\n"
   ]
  },
  {
   "cell_type": "code",
   "execution_count": null,
   "id": "d82400bf-dda2-4d0e-8d77-09bf4842e5e1",
   "metadata": {},
   "outputs": [],
   "source": [
    "r = pd.DataFrame(np.array([[1.3]]),columns=[\"Au\"],index= [\"Au\"])\n",
    "\n",
    "constrains = {     \n",
    "        \"composition\":{\"Au\":1},\n",
    "        \"atoms\":13,\n",
    "        \"vpa\":[16, 20],\n",
    "        \"r\":r,       \n",
    "        }\n",
    "\n",
    "\n",
    "lammps_args = {\n",
    "        \"pair_style\" : \"pair_style eam\",\n",
    "        \"pair_coeff\" : \"pair_coeff * * Au.eam\",\n",
    "        \"pad\":20\n",
    "            }\n",
    "\n",
    "args = (constrains,lammps_args)"
   ]
  },
  {
   "cell_type": "code",
   "execution_count": null,
   "id": "ae52d64b-d3b4-4857-b700-8661f286fa97",
   "metadata": {},
   "outputs": [],
   "source": [
    "structData = createRandomData(constrains,trials = 1000)\n",
    "x0 = structData[\"parameters\"]"
   ]
  },
  {
   "cell_type": "code",
   "execution_count": null,
   "id": "ca2a8e38-69c0-408c-bdce-e1fd54d9a866",
   "metadata": {},
   "outputs": [],
   "source": [
    "fun = LammpsEvaluator(constrains,lammps_args).snapshot"
   ]
  },
  {
   "cell_type": "code",
   "execution_count": null,
   "id": "050e9051-bd76-4811-97ca-efc35a5d5c0a",
   "metadata": {},
   "outputs": [],
   "source": [
    "scipy.optimize.minimize(fun, x0, args=args, method=Custom_minimize)"
   ]
  }
 ],
 "metadata": {
  "kernelspec": {
   "display_name": "base",
   "language": "python",
   "name": "python3"
  },
  "language_info": {
   "codemirror_mode": {
    "name": "ipython",
    "version": 3
   },
   "file_extension": ".py",
   "mimetype": "text/x-python",
   "name": "python",
   "nbconvert_exporter": "python",
   "pygments_lexer": "ipython3",
   "version": "3.8.5"
  }
 },
 "nbformat": 4,
 "nbformat_minor": 5
}
